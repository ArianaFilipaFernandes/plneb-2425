{
 "cells": [
  {
   "cell_type": "code",
   "execution_count": null,
   "id": "initial_id",
   "metadata": {
    "collapsed": true
   },
   "outputs": [],
   "source": [
    "# Ficha de Expressões Regulares 1\n",
    "# Exercício 1"
   ]
  },
  {
   "cell_type": "code",
   "outputs": [
    {
     "name": "stdout",
     "output_type": "stream",
     "text": [
      "<re.Match object; span=(0, 5), match='hello'>\n",
      "None\n",
      "None\n"
     ]
    }
   ],
   "source": [
    "import re\n",
    "\n",
    "# Alínea 1.1\n",
    "# Dada uma linha de texto, define um programa que determina se a palavra \"hello\" aparece no início da linha.\n",
    "\n",
    "line1 = \"hello world\"\n",
    "line2 = \"goodbye world\"\n",
    "line3 = \"hi, hello there\"\n",
    "\n",
    "print(re.match(r'^hello\\b', line1))\n",
    "print(re.match(r'^hello\\b', line2))\n",
    "print(re.match(r'^hello\\b', line3))"
   ],
   "metadata": {
    "collapsed": false,
    "ExecuteTime": {
     "end_time": "2025-02-21T17:48:14.396482Z",
     "start_time": "2025-02-21T17:48:14.390477Z"
    }
   },
   "id": "7e1e373e3174e6ed",
   "execution_count": 2
  },
  {
   "cell_type": "code",
   "outputs": [
    {
     "name": "stdout",
     "output_type": "stream",
     "text": [
      "<re.Match object; span=(0, 5), match='hello'>\n",
      "None\n",
      "<re.Match object; span=(4, 9), match='hello'>\n"
     ]
    }
   ],
   "source": [
    "# Alínea 1.2\n",
    "# Dada uma linha de texto, define um programa que determina se a palavra \"hello\" aparece em qualquer posição da linha.\n",
    "\n",
    "line1 = \"hello world\"\n",
    "line2 = \"goodbye world\"\n",
    "line3 = \"hi, hello there\"\n",
    "\n",
    "print(re.search(r'\\bhello\\b', line1))\n",
    "print(re.search(r'\\bhello\\b', line2))\n",
    "print(re.search(r'\\bhello\\b', line3))"
   ],
   "metadata": {
    "collapsed": false,
    "ExecuteTime": {
     "end_time": "2025-02-21T17:48:15.102197Z",
     "start_time": "2025-02-21T17:48:15.096731Z"
    }
   },
   "id": "9dd6c0dc74768f92",
   "execution_count": 3
  },
  {
   "cell_type": "code",
   "outputs": [
    {
     "name": "stdout",
     "output_type": "stream",
     "text": [
      "['Hello', 'hello', 'hello', 'HELLO']\n"
     ]
    }
   ],
   "source": [
    "# Alínea 1.3\n",
    "# Dada uma linha de texto, define um programa que pesquisa por todas as ocorrências da palavra \"hello\" dentro da linha, admitindo que a palavra seja escrita com maiúsculas ou minúsculas.\n",
    "\n",
    "line = \"Hello there! Uh, hi, hello, it's me... Heyyy, hello? HELLO!\"\n",
    "\n",
    "print(re.findall(r'\\bhello\\b', line, re.IGNORECASE))"
   ],
   "metadata": {
    "collapsed": false,
    "ExecuteTime": {
     "end_time": "2025-02-21T17:48:15.927215Z",
     "start_time": "2025-02-21T17:48:15.922287Z"
    }
   },
   "id": "1ae49530d375b464",
   "execution_count": 4
  },
  {
   "cell_type": "code",
   "outputs": [
    {
     "name": "stdout",
     "output_type": "stream",
     "text": [
      "*YEP* there! Uh, hi, *YEP*, it's me... Heyyy, *YEP*? *YEP*!\n"
     ]
    }
   ],
   "source": [
    "# Alínea 1.4\n",
    "# Dada uma linha de texto, define um programa que pesquisa por todas as ocorrências da palavra \"hello\" dentro da linha, substituindo cada uma por \"*YEP*\".\n",
    "\n",
    "line = \"Hello there! Uh, hi, hello, it's me... Heyyy, hello? HELLO!\"\n",
    "\n",
    "print(re.sub(r'hello', '*YEP*', line, flags=re.IGNORECASE))"
   ],
   "metadata": {
    "collapsed": false,
    "ExecuteTime": {
     "end_time": "2025-02-21T17:48:16.465538Z",
     "start_time": "2025-02-21T17:48:16.459676Z"
    }
   },
   "id": "a582213e26463554",
   "execution_count": 5
  },
  {
   "cell_type": "code",
   "outputs": [
    {
     "name": "stdout",
     "output_type": "stream",
     "text": [
      "['bananas, laranjas, maçãs, uvas, melancias, cerejas, kiwis, etc.']\n"
     ]
    }
   ],
   "source": [
    "# Alínea 1.5\n",
    "# Dada uma linha de texto, define um programa que pesquisa por todas as ocorrências do caracter vírgula, separando cada parte da linha por esse caracter.   \n",
    "\n",
    "line = \"bananas, laranjas, maçãs, uvas, melancias, cerejas, kiwis, etc.\"\n",
    "\n",
    "print(re.split(r',\\S', line))"
   ],
   "metadata": {
    "collapsed": false,
    "ExecuteTime": {
     "end_time": "2025-02-21T17:48:16.915816Z",
     "start_time": "2025-02-21T17:48:16.898804Z"
    }
   },
   "id": "6ca72d949a332e40",
   "execution_count": 6
  },
  {
   "cell_type": "code",
   "outputs": [
    {
     "name": "stdout",
     "output_type": "stream",
     "text": [
      "<re.Match object; span=(26, 36), match='por favor?'>\n",
      "None\n"
     ]
    }
   ],
   "source": [
    "# Exercício 2\n",
    "# Define a função palavra_magica que recebe uma frase e determina se a mesma termina com a expressão \"por favor\", seguida de um sinal válido de pontuação.\n",
    "\n",
    "def palavra_magica(frase):\n",
    "  return re.search(r'\\bpor favor[!?.,]', frase, re.IGNORECASE)\n",
    "\n",
    "print(palavra_magica(\"Posso ir à casa de banho, por favor?\"))\n",
    "print(palavra_magica(\"Preciso de um favor.\"))\n",
    "\n"
   ],
   "metadata": {
    "collapsed": false,
    "ExecuteTime": {
     "end_time": "2025-02-21T17:48:17.324516Z",
     "start_time": "2025-02-21T17:48:17.314417Z"
    }
   },
   "id": "40e7069f40fd88e2",
   "execution_count": 7
  },
  {
   "cell_type": "code",
   "outputs": [
    {
     "name": "stdout",
     "output_type": "stream",
     "text": [
      "6\n"
     ]
    }
   ],
   "source": [
    "# Exercício 3\n",
    "# Define a função narcissismo que calcula quantas vezes a palavra \"eu\" aparece numa string.\n",
    "\n",
    "def narcissismo(linha):\n",
    "  return len(re.findall(r'\\beu\\b', linha, re.IGNORECASE))\n",
    "\n",
    "print(narcissismo(\"Eu não sei se eu quero continuar a ser eu. Por outro lado, eu ser eu é uma parte importante de quem EU sou.\"))\n",
    "     "
   ],
   "metadata": {
    "collapsed": false,
    "ExecuteTime": {
     "end_time": "2025-02-21T17:48:17.776674Z",
     "start_time": "2025-02-21T17:48:17.771286Z"
    }
   },
   "id": "44c283cf3ecacab",
   "execution_count": 8
  },
  {
   "cell_type": "code",
   "outputs": [
    {
     "name": "stdout",
     "output_type": "stream",
     "text": [
      "Biomédica é o melhor curso! Adoro Biomédica! Gostar de Biomédica devia ser uma lei.\n"
     ]
    }
   ],
   "source": [
    "# Exercício 4\n",
    "# Define a função troca_de_curso que substitui todas as ocorrências de \"LEI\" numa linha pelo nome do curso dado à função.\n",
    "\n",
    "def troca_de_curso(linha, novo_curso):\n",
    "  return re.sub(r'LEI', novo_curso, linha)\n",
    "\n",
    "print(troca_de_curso(\"LEI é o melhor curso! Adoro LEI! Gostar de LEI devia ser uma lei.\", \"Biomédica\"))"
   ],
   "metadata": {
    "collapsed": false,
    "ExecuteTime": {
     "end_time": "2025-02-21T17:48:18.265974Z",
     "start_time": "2025-02-21T17:48:18.259975Z"
    }
   },
   "id": "46d71ec4dcbd766c",
   "execution_count": 9
  },
  {
   "cell_type": "code",
   "outputs": [
    {
     "name": "stdout",
     "output_type": "stream",
     "text": [
      "6\n"
     ]
    }
   ],
   "source": [
    "# Exercício 5\n",
    "# Define a função soma_string que recebe uma string com vários números separados por uma vírgula (e.g., \"1,2,3,4,5\") e devolve a soma destes números.\n",
    "\n",
    "def soma_string(linha):\n",
    "  total = map(int,re.split(r',', linha))\n",
    "  return sum(total)\n",
    "\n",
    "print(soma_string(\"4,-6,2,3,8,-3,0,2,-5,1\"))"
   ],
   "metadata": {
    "collapsed": false,
    "ExecuteTime": {
     "end_time": "2025-02-21T17:48:18.713881Z",
     "start_time": "2025-02-21T17:48:18.707889Z"
    }
   },
   "id": "5936a7ee8664ebb0",
   "execution_count": 10
  },
  {
   "cell_type": "code",
   "outputs": [
    {
     "name": "stdout",
     "output_type": "stream",
     "text": [
      "['eu', 'tu', 'eles', 'nós', 'ela', 'elas']\n"
     ]
    }
   ],
   "source": [
    "# Exercício 6\n",
    "# Define a função pronomes que encontra e devolve todos os pronomes pessoais presentes numa frase, i.e., \"eu\", \"tu\", \"ele\", \"ela\", etc., com atenção para letras maiúsculas ou minúsculas.\n",
    "\n",
    "def pronomes(frase):\n",
    "  return re.findall(r'\\b(eu|tu|ele|ela|nós|vós|eles|elas)\\b', frase, re.IGNORECASE)\n",
    "\n",
    "print(pronomes(\"Quando eu fui a Itália, tu foste a França. Depois, eles foram para Espanha sem nós. Então ela decidiu que todas elas fossem a Espanha também.\"))"
   ],
   "metadata": {
    "collapsed": false,
    "ExecuteTime": {
     "end_time": "2025-02-21T17:48:19.136338Z",
     "start_time": "2025-02-21T17:48:19.131349Z"
    }
   },
   "id": "dd75cabf7b881cee",
   "execution_count": 11
  },
  {
   "cell_type": "code",
   "outputs": [
    {
     "name": "stdout",
     "output_type": "stream",
     "text": [
      "<re.Match object; span=(0, 6), match='Quando'>\n",
      "<re.Match object; span=(0, 2), match='tu'>\n",
      "None\n",
      "None\n"
     ]
    }
   ],
   "source": [
    "# Exercício 7\n",
    "# Define a função variavel_valida que recebe uma string e determina se a mesma é um nome válido para uma variável, ou seja, se começa por uma letra e apenas contém letras, números ou underscores.\n",
    "\n",
    "def variavel_valida(string):\n",
    "  return re.match(r'\\b[a-zA-Z]\\w*', string, re.IGNORECASE)\n",
    "\n",
    "print(variavel_valida(\"Quando eu fui a Itália.\"))\n",
    "print(variavel_valida(\"tu foste a123 França\"))\n",
    "print(variavel_valida(\"1Depois, eles foram.\"))\n",
    "print(variavel_valida(\"-Então_ela decidiu que todas elas fossem\"))"
   ],
   "metadata": {
    "collapsed": false,
    "ExecuteTime": {
     "end_time": "2025-02-21T17:48:19.644239Z",
     "start_time": "2025-02-21T17:48:19.637245Z"
    }
   },
   "id": "1d11bd6e89990703",
   "execution_count": 12
  },
  {
   "cell_type": "code",
   "outputs": [
    {
     "name": "stdout",
     "output_type": "stream",
     "text": [
      "['1', '0', '5', '-10', '-9', '6', '3', '5', '45', '4', '5', '-7', '3']\n"
     ]
    }
   ],
   "source": [
    "# Exercício 8\n",
    "# Define a função inteiros que devolve todos os números inteiros presentes numa string. Um número inteiro pode conter um ou mais dígitos e pode ser positivo ou negativo.\n",
    "\n",
    "def inteiros(string):\n",
    "  return re.findall(r'-?\\b\\d+\\b', string)\n",
    "\n",
    "print(inteiros(\"1, 0,5, -10, -9,6, 3, 5, 45, 4,5, -7,3\"))"
   ],
   "metadata": {
    "collapsed": false,
    "ExecuteTime": {
     "end_time": "2025-02-21T17:56:17.742597Z",
     "start_time": "2025-02-21T17:56:17.736270Z"
    }
   },
   "id": "c75ed5318df46bec",
   "execution_count": 16
  },
  {
   "cell_type": "code",
   "outputs": [
    {
     "name": "stdout",
     "output_type": "stream",
     "text": [
      "_Exercicio_nove_do_tpc2_de_processamento_linguagem_natural_em_engenharia_biomédica_.\n"
     ]
    }
   ],
   "source": [
    "# Exercício 9\n",
    "# Define a função underscores que substitui todos os espaços numa string por underscores. Se aparecerem vários espaços seguidos, devem ser substituídos por apenas um underscore.\n",
    "\n",
    "def underscores(string):\n",
    "  return re.sub('\\s+', '_', string)\n",
    "\n",
    "print(underscores(\"   Exercicio nove do tpc2 de processamento linguagem natural em engenharia biomédica   .\"))"
   ],
   "metadata": {
    "collapsed": false,
    "ExecuteTime": {
     "end_time": "2025-02-21T18:01:17.540130Z",
     "start_time": "2025-02-21T18:01:17.534638Z"
    }
   },
   "id": "93ad42b555d9ea46",
   "execution_count": 20
  },
  {
   "cell_type": "code",
   "outputs": [
    {
     "name": "stdout",
     "output_type": "stream",
     "text": [
      "[['4940', '530'], ['4990', '200'], ['4935', '120']]\n"
     ]
    }
   ],
   "source": [
    "# Exercício 10\n",
    "# Define a função codigos_postais que recebe uma lista de códigos postais válidos e divide-os com base no hífen. A função deve devolver uma lista de pares.\n",
    "  \n",
    "def codigos_postais(lista):\n",
    "  return [re.split(r'-', codigo) for codigo in lista]\n",
    "\n",
    "print(codigos_postais([\"4940-530\", \"4990-200\", \"4935-120\"]))"
   ],
   "metadata": {
    "collapsed": false,
    "ExecuteTime": {
     "end_time": "2025-02-21T18:11:58.879514Z",
     "start_time": "2025-02-21T18:11:58.873513Z"
    }
   },
   "id": "a05a994a946555fd",
   "execution_count": 23
  },
  {
   "cell_type": "code",
   "outputs": [],
   "source": [],
   "metadata": {
    "collapsed": false
   },
   "id": "91db1188bd8c94c8"
  }
 ],
 "metadata": {
  "kernelspec": {
   "display_name": "Python 3",
   "language": "python",
   "name": "python3"
  },
  "language_info": {
   "codemirror_mode": {
    "name": "ipython",
    "version": 2
   },
   "file_extension": ".py",
   "mimetype": "text/x-python",
   "name": "python",
   "nbconvert_exporter": "python",
   "pygments_lexer": "ipython2",
   "version": "2.7.6"
  }
 },
 "nbformat": 4,
 "nbformat_minor": 5
}
